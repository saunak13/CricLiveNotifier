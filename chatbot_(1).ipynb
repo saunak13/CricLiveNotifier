{
  "nbformat": 4,
  "nbformat_minor": 0,
  "metadata": {
    "colab": {
      "name": "uda_lastclass (1).ipynb",
      "version": "0.3.2",
      "provenance": [],
      "collapsed_sections": [],
      "include_colab_link": true
    },
    "kernelspec": {
      "display_name": "Python 3",
      "language": "python",
      "name": "python3"
    }
  },
  "cells": [
    {
      "cell_type": "markdown",
      "metadata": {
        "id": "view-in-github",
        "colab_type": "text"
      },
      "source": [
        "<a href=\"https://colab.research.google.com/github/saunak13/CricLiveNotifier/blob/master/chatbot_(1).ipynb\" target=\"_parent\"><img src=\"https://colab.research.google.com/assets/colab-badge.svg\" alt=\"Open In Colab\"/></a>"
      ]
    },
    {
      "metadata": {
        "id": "xmcXtcu3y3hT",
        "colab_type": "code",
        "colab": {}
      },
      "cell_type": "code",
      "source": [
        "#!pip install spacy"
      ],
      "execution_count": 0,
      "outputs": []
    },
    {
      "metadata": {
        "colab_type": "code",
        "id": "OgArWbPs8a4n",
        "colab": {}
      },
      "cell_type": "code",
      "source": [
        "import spacy"
      ],
      "execution_count": 0,
      "outputs": []
    },
    {
      "metadata": {
        "colab_type": "code",
        "id": "RBdDU8j_8dDh",
        "colab": {}
      },
      "cell_type": "code",
      "source": [
        "#!pip install  rasa_core"
      ],
      "execution_count": 0,
      "outputs": []
    },
    {
      "metadata": {
        "colab_type": "code",
        "id": "NEoov2GM8iFC",
        "colab": {}
      },
      "cell_type": "code",
      "source": [
        "#!pip install rasa_nlu"
      ],
      "execution_count": 0,
      "outputs": []
    },
    {
      "metadata": {
        "id": "veT021NZzcgK",
        "colab_type": "code",
        "colab": {
          "base_uri": "https://localhost:8080/",
          "height": 34
        },
        "outputId": "33d79166-33bd-4d40-edc3-1fbca3031157"
      },
      "cell_type": "code",
      "source": [
        "intent_data = '''\n",
        "## intent:introduction\n",
        "-how are you ?\n",
        "-howdy ?\n",
        "-h r u ?\n",
        "-hi\n",
        "-hey\n",
        "-hello\n",
        "## intent:ask_time\n",
        "-whats the time now\n",
        "-can you tell me the time now\n",
        "-time now please?\n",
        "-tell me the time now\n",
        "## intent:ask_weather\n",
        "-whats the tempreture in bangalore now\n",
        "-tell me the tempreture in Bangalore now\n",
        "-whats the weather in Bangalore\n",
        "-can you tell me the weather for Bangalore\n",
        "##intent:ask_hashtags\n",
        "-whats are the trending hashtags today\n",
        "-todays trending hastags please\n",
        "-tell me what is trending today\n",
        "-can you please tell me the trend of today\n",
        "'''\n",
        "%store intent_data > data.md"
      ],
      "execution_count": 8,
      "outputs": [
        {
          "output_type": "stream",
          "text": [
            "Writing 'intent_data' (str) to file 'data.md'.\n"
          ],
          "name": "stdout"
        }
      ]
    },
    {
      "metadata": {
        "id": "i3BW5Yg4AZSK",
        "colab_type": "code",
        "colab": {
          "base_uri": "https://localhost:8080/",
          "height": 34
        },
        "outputId": "cff0ec8b-888e-4028-dc3f-a6b01f0e603c"
      },
      "cell_type": "code",
      "source": [
        "spacy.load('en')\n",
        "setting = '''\n",
        "pipline:spacy_sklearn\n",
        "'''\n",
        "%store setting > setting.yml"
      ],
      "execution_count": 15,
      "outputs": [
        {
          "output_type": "stream",
          "text": [
            "Writing 'setting' (str) to file 'setting.yml'.\n"
          ],
          "name": "stdout"
        }
      ]
    },
    {
      "metadata": {
        "id": "Kctm4r6xAZei",
        "colab_type": "code",
        "colab": {}
      },
      "cell_type": "code",
      "source": [
        "#!pip install sklearn_crfsuite"
      ],
      "execution_count": 0,
      "outputs": []
    },
    {
      "metadata": {
        "id": "1bVAqd4FAZqz",
        "colab_type": "code",
        "colab": {}
      },
      "cell_type": "code",
      "source": [
        ""
      ],
      "execution_count": 0,
      "outputs": []
    },
    {
      "metadata": {
        "id": "b-C2AGs2AZub",
        "colab_type": "code",
        "colab": {}
      },
      "cell_type": "code",
      "source": [
        ""
      ],
      "execution_count": 0,
      "outputs": []
    },
    {
      "metadata": {
        "id": "vYKRinm0AZx6",
        "colab_type": "code",
        "colab": {}
      },
      "cell_type": "code",
      "source": [
        ""
      ],
      "execution_count": 0,
      "outputs": []
    },
    {
      "metadata": {
        "id": "2gGuGQWkAZ07",
        "colab_type": "code",
        "colab": {}
      },
      "cell_type": "code",
      "source": [
        ""
      ],
      "execution_count": 0,
      "outputs": []
    },
    {
      "metadata": {
        "id": "SsCbD0xOAZ38",
        "colab_type": "code",
        "colab": {}
      },
      "cell_type": "code",
      "source": [
        ""
      ],
      "execution_count": 0,
      "outputs": []
    },
    {
      "metadata": {
        "id": "M4l_I3rcAZ7I",
        "colab_type": "code",
        "colab": {}
      },
      "cell_type": "code",
      "source": [
        ""
      ],
      "execution_count": 0,
      "outputs": []
    },
    {
      "metadata": {
        "colab_type": "code",
        "id": "ejBotqZ39FP3",
        "colab": {}
      },
      "cell_type": "code",
      "source": [
        "import rasa_nlu"
      ],
      "execution_count": 0,
      "outputs": []
    },
    {
      "metadata": {
        "id": "3dBQk7ngAYL7",
        "colab_type": "text"
      },
      "cell_type": "markdown",
      "source": [
        ""
      ]
    },
    {
      "metadata": {
        "colab_type": "code",
        "id": "qUiMOnK79a9A",
        "colab": {}
      },
      "cell_type": "code",
      "source": [
        "import numpy as np\n",
        "import pandas as pd"
      ],
      "execution_count": 0,
      "outputs": []
    },
    {
      "metadata": {
        "colab_type": "code",
        "id": "5llboh2qAGsY",
        "outputId": "1fe7b2f5-df77-4f26-bbea-b8dffc56b124",
        "colab": {
          "base_uri": "https://localhost:8080/",
          "height": 122
        }
      },
      "cell_type": "code",
      "source": [
        "#from google.colab import drive\n",
        "#drive.mount('/content/gdrive')"
      ],
      "execution_count": 0,
      "outputs": [
        {
          "output_type": "stream",
          "text": [
            "Go to this URL in a browser: https://accounts.google.com/o/oauth2/auth?client_id=947318989803-6bn6qk8qdgf4n4g3pfee6491hc0brc4i.apps.googleusercontent.com&redirect_uri=urn%3Aietf%3Awg%3Aoauth%3A2.0%3Aoob&scope=email%20https%3A%2F%2Fwww.googleapis.com%2Fauth%2Fdocs.test%20https%3A%2F%2Fwww.googleapis.com%2Fauth%2Fdrive%20https%3A%2F%2Fwww.googleapis.com%2Fauth%2Fdrive.photos.readonly%20https%3A%2F%2Fwww.googleapis.com%2Fauth%2Fpeopleapi.readonly&response_type=code\n",
            "\n",
            "Enter your authorization code:\n",
            "··········\n",
            "Mounted at /content/gdrive\n"
          ],
          "name": "stdout"
        }
      ]
    },
    {
      "metadata": {
        "colab_type": "code",
        "id": "U7UEweC8AT8y",
        "outputId": "bba3a61f-4661-46ab-c91b-a420226d8c00",
        "colab": {
          "base_uri": "https://localhost:8080/",
          "height": 2941
        }
      },
      "cell_type": "code",
      "source": [
        "#import glob\n",
        "#glob.glob('/content/gdrive/My Drive/*')"
      ],
      "execution_count": 0,
      "outputs": [
        {
          "output_type": "execute_result",
          "data": {
            "text/plain": [
              "['/content/gdrive/My Drive/To.docx',\n",
              " '/content/gdrive/My Drive/To.docx.gdoc',\n",
              " '/content/gdrive/My Drive/editable_Digital_Signal_Processing_Principles_Algorithms_and_Applications_Third_Edition.pdf',\n",
              " \"/content/gdrive/My Drive/Bela G. Liptak-Instrument Engineers' Handbook, Vol. 1_ Process Measurement and Analysis-CRC Press (2003).pdf\",\n",
              " '/content/gdrive/My Drive/discrete-time-signal-processing-by-alan-v-oppenheim.pdf',\n",
              " '/content/gdrive/My Drive/discrete-time-signal-processing-by-alan-v-oppenheim (1).pdf',\n",
              " '/content/gdrive/My Drive/editable_Digital_Signal_Processing_Principles_Algorithms_and_Applications_Third_Edition (1).pdf',\n",
              " \"/content/gdrive/My Drive/Bela G. Liptak-Instrument Engineers' Handbook, Vol. 1_ Process Measurement and Analysis-CRC Press (2003) (1).pdf\",\n",
              " '/content/gdrive/My Drive/editable_Digital_Signal_Processing_Principles_Algorithms_and_Applications_Third_Edition (2).pdf',\n",
              " '/content/gdrive/My Drive/discrete-time-signal-processing-by-alan-v-oppenheim (2).pdf',\n",
              " \"/content/gdrive/My Drive/Bela G. Liptak-Instrument Engineers' Handbook, Vol. 1_ Process Measurement and Analysis-CRC Press (2003) (2).pdf\",\n",
              " '/content/gdrive/My Drive/Biosignal Analysis  jeet ppt new.pptx',\n",
              " '/content/gdrive/My Drive/Digital_Signal_Processing_by_J.S.CHITODE.pdf',\n",
              " '/content/gdrive/My Drive/Data Communications and Networking By Behrouz A.Forouzan.pdf',\n",
              " '/content/gdrive/My Drive/discrete-time-signal-processing-by-alan-v-oppenheim (3).pdf',\n",
              " '/content/gdrive/My Drive/DSP_Unit-8.pdf',\n",
              " '/content/gdrive/My Drive/Computer_Networks_5th_Edition_Andrew_S_Tanenbaum_David_J_Wetherall(www.ebook-dl.com).zip',\n",
              " '/content/gdrive/My Drive/60065.zip',\n",
              " '/content/gdrive/My Drive/514__4b971b8.pdf',\n",
              " '/content/gdrive/My Drive/Product Design and Development (6th edition).pdf',\n",
              " '/content/gdrive/My Drive/Product Design and Development (6th edition) (1).pdf',\n",
              " '/content/gdrive/My Drive/Product Design and Development (6th edition) (2).pdf',\n",
              " '/content/gdrive/My Drive/Product Design and Development (6th edition) (3).pdf',\n",
              " '/content/gdrive/My Drive/Product Design and Development (6th edition) (4).pdf',\n",
              " '/content/gdrive/My Drive/Product Design and Development (6th edition) (5).pdf',\n",
              " '/content/gdrive/My Drive/cryptography.pptx',\n",
              " '/content/gdrive/My Drive/DES.ppt',\n",
              " '/content/gdrive/My Drive/firewall 6.4.15.ppt',\n",
              " '/content/gdrive/My Drive/firewall.ppt',\n",
              " '/content/gdrive/My Drive/firewalls.ppt',\n",
              " '/content/gdrive/My Drive/The RSA Algorithm.ppt',\n",
              " '/content/gdrive/My Drive/editable_Digital_Signal_Processing_Principles_Algorithms_and_Applications_Third_Edition (3).pdf',\n",
              " '/content/gdrive/My Drive/Product Design and Development (6th edition) (6).pdf',\n",
              " '/content/gdrive/My Drive/RS agarwal quantitative aptitude book.pdf',\n",
              " '/content/gdrive/My Drive/CMOS. VLSI.pdf',\n",
              " '/content/gdrive/My Drive/Ergonomic Risk Factors and Control Methods.gslides',\n",
              " '/content/gdrive/My Drive/Untitled document.gdoc',\n",
              " '/content/gdrive/My Drive/resumenew.pdf',\n",
              " '/content/gdrive/My Drive/resumenew - Shrinjit Dash.pdf',\n",
              " '/content/gdrive/My Drive/SUSHMITA TIMMANNA KUNDARGI',\n",
              " '/content/gdrive/My Drive/SUSHMITA TIMMANNA KUNDARGI1.pdf',\n",
              " '/content/gdrive/My Drive/SUSHMITA TIMMANNA KUNDARGI1 - Shrinjit Dash.pdf',\n",
              " '/content/gdrive/My Drive/resumenew (1).pdf',\n",
              " '/content/gdrive/My Drive/EIE-Shrinjit Dash.pdf',\n",
              " '/content/gdrive/My Drive/EIE-Shrinjit Dash (1).pdf',\n",
              " '/content/gdrive/My Drive/EIE-Shrinjit Dash - Shrinjit Dash.pdf',\n",
              " '/content/gdrive/My Drive/Untitled spreadsheet.gsheet',\n",
              " '/content/gdrive/My Drive/LICENSE.txt',\n",
              " '/content/gdrive/My Drive/python3.dll',\n",
              " '/content/gdrive/My Drive/NEWS.txt',\n",
              " '/content/gdrive/My Drive/python3_d.dll',\n",
              " '/content/gdrive/My Drive/carsales.r',\n",
              " '/content/gdrive/My Drive/dataascrappingshit.r',\n",
              " '/content/gdrive/My Drive/datascraping33.rmd',\n",
              " '/content/gdrive/My Drive/imputationofmissingvalueswithkNNmethod.r',\n",
              " '/content/gdrive/My Drive/Dengue fever.xlsx',\n",
              " '/content/gdrive/My Drive/clusteringeda.r',\n",
              " '/content/gdrive/My Drive/datascrapinginr.r',\n",
              " '/content/gdrive/My Drive/assignmenteda2.r',\n",
              " '/content/gdrive/My Drive/bank.txt',\n",
              " '/content/gdrive/My Drive/googlevis.r',\n",
              " '/content/gdrive/My Drive/GTD1.Rmd',\n",
              " '/content/gdrive/My Drive/fitnessAppLog.csv',\n",
              " '/content/gdrive/My Drive/eda3.r',\n",
              " '/content/gdrive/My Drive/introduction.R',\n",
              " '/content/gdrive/My Drive/joinsconcept.r',\n",
              " '/content/gdrive/My Drive/IPL_CASE_STUDY.r',\n",
              " '/content/gdrive/My Drive/knnimplementation.r',\n",
              " '/content/gdrive/My Drive/cities_r2.csv',\n",
              " '/content/gdrive/My Drive/outliertreatment.r',\n",
              " '/content/gdrive/My Drive/Most Profitable Hollywood Stories.csv',\n",
              " '/content/gdrive/My Drive/practiseanova2way.r',\n",
              " '/content/gdrive/My Drive/Data Set for Case study.rar',\n",
              " '/content/gdrive/My Drive/logisticregression1.r',\n",
              " '/content/gdrive/My Drive/narendramodi_tweets1.csv',\n",
              " '/content/gdrive/My Drive/stats2.r',\n",
              " '/content/gdrive/My Drive/test.csv',\n",
              " '/content/gdrive/My Drive/pythonfileoperation.txt',\n",
              " '/content/gdrive/My Drive/logisticregression.r',\n",
              " '/content/gdrive/My Drive/test_data.xlsx',\n",
              " '/content/gdrive/My Drive/train.csv',\n",
              " '/content/gdrive/My Drive/twitter_analysis_batch4a.rmd',\n",
              " '/content/gdrive/My Drive/Titanic.csv',\n",
              " '/content/gdrive/My Drive/twitter_analysis_batch4a.r',\n",
              " '/content/gdrive/My Drive/wine.data',\n",
              " '/content/gdrive/My Drive/wdbc.data',\n",
              " '/content/gdrive/My Drive/edabook.pdf',\n",
              " '/content/gdrive/My Drive/narendramodi_tweets.csv',\n",
              " '/content/gdrive/My Drive/videoplayback.webm',\n",
              " '/content/gdrive/My Drive/Colab Notebooks',\n",
              " '/content/gdrive/My Drive/adaptive boost-checkpoint.ipynb',\n",
              " '/content/gdrive/My Drive/Assignment_DV_bank-checkpoint.ipynb',\n",
              " '/content/gdrive/My Drive/assignment1ml-checkpoint.ipynb',\n",
              " '/content/gdrive/My Drive/Assignment_DV_timeData-checkpoint.ipynb',\n",
              " '/content/gdrive/My Drive/datavisualizationamrksdata-checkpoint.ipynb',\n",
              " '/content/gdrive/My Drive/chloropleth-checkpoint.ipynb',\n",
              " '/content/gdrive/My Drive/DV plotly-checkpoint.ipynb',\n",
              " '/content/gdrive/My Drive/datavisualizationmatplotlibclass1-checkpoint.ipynb',\n",
              " '/content/gdrive/My Drive/dvlastclassnots-checkpoint.ipynb',\n",
              " '/content/gdrive/My Drive/datavisualizationclass 3-checkpoint.ipynb',\n",
              " '/content/gdrive/My Drive/dvtest-checkpoint.ipynb',\n",
              " '/content/gdrive/My Drive/edawithpythonclass1-checkpoint.ipynb',\n",
              " '/content/gdrive/My Drive/greedy_algo_coin-checkpoint.ipynb',\n",
              " '/content/gdrive/My Drive/gochart-checkpoint.ipynb',\n",
              " '/content/gdrive/My Drive/greedy_algorithm-checkpoint.ipynb',\n",
              " '/content/gdrive/My Drive/iteration_using_forloop-checkpoint.ipynb',\n",
              " '/content/gdrive/My Drive/k_means_clustering-checkpoint.ipynb',\n",
              " '/content/gdrive/My Drive/kaggledatadigitrecogniser-checkpoint.ipynb',\n",
              " '/content/gdrive/My Drive/kathirmanisirlinearregression-checkpoint.ipynb',\n",
              " '/content/gdrive/My Drive/kernel-checkpoint.ipynb',\n",
              " '/content/gdrive/My Drive/knnclasscode-checkpoint.ipynb',\n",
              " '/content/gdrive/My Drive/linear regression-checkpoint.ipynb',\n",
              " '/content/gdrive/My Drive/linear regressionday_by_senthil_1-checkpoint.ipynb',\n",
              " '/content/gdrive/My Drive/linear_regression_knowing_the_highly_coorelated_variables-checkpoint.ipynb',\n",
              " '/content/gdrive/My Drive/machinelearning1-checkpoint.ipynb',\n",
              " '/content/gdrive/My Drive/ml6thdaybestmodel,withinamodel,finetune,biasvsvariance,creatingtheconfusionmatrixformulticlass-checkpoint.ipynb',\n",
              " '/content/gdrive/My Drive/machinelearningday2-checkpoint.ipynb',\n",
              " '/content/gdrive/My Drive/ML - 8-checkpoint.ipynb',\n",
              " '/content/gdrive/My Drive/ML - Class Assignment (Bank Data)_Predictors for 4 m-D 3-checkpoint.ipynb',\n",
              " '/content/gdrive/My Drive/ml-day3-batch4a-checkpoint.ipynb',\n",
              " '/content/gdrive/My Drive/ML_DAY_2-checkpoint.ipynb',\n",
              " '/content/gdrive/My Drive/ml_day_senthil_3_clustering-checkpoint.ipynb',\n",
              " '/content/gdrive/My Drive/mlassignment -checkpoint.ipynb',\n",
              " '/content/gdrive/My Drive/mlday3-checkpoint.ipynb',\n",
              " '/content/gdrive/My Drive/mlday9howtochoosetheoptimaldepth-checkpoint.ipynb',\n",
              " '/content/gdrive/My Drive/mlday4-checkpoint.ipynb',\n",
              " '/content/gdrive/My Drive/mlday 8batch4a-checkpoint.ipynb',\n",
              " '/content/gdrive/My Drive/mushroom data set -checkpoint.ipynb',\n",
              " '/content/gdrive/My Drive/newpractisedata-checkpoint.ipynb',\n",
              " '/content/gdrive/My Drive/naivebayesanddigitizebinning-checkpoint.ipynb',\n",
              " '/content/gdrive/My Drive/oil_data_manipulation-checkpoint.ipynb',\n",
              " '/content/gdrive/My Drive/rnojoy_doubt-checkpoint.ipynb',\n",
              " '/content/gdrive/My Drive/recommendationsenginesmlday9-checkpoint.ipynb',\n",
              " '/content/gdrive/My Drive/senthil_logistic_regression-checkpoint.ipynb',\n",
              " '/content/gdrive/My Drive/sensitivity,roc,optimalsensitivity,hyperparameter,improvetheperformance-checkpoint.ipynb',\n",
              " '/content/gdrive/My Drive/stock-checkpoint.ipynb',\n",
              " '/content/gdrive/My Drive/Untitled1-checkpoint.ipynb',\n",
              " '/content/gdrive/My Drive/Untitled2-checkpoint.ipynb',\n",
              " '/content/gdrive/My Drive/Untitled3-checkpoint.ipynb',\n",
              " '/content/gdrive/My Drive/Untitled4-checkpoint.ipynb',\n",
              " '/content/gdrive/My Drive/Untitled5-checkpoint.ipynb',\n",
              " '/content/gdrive/My Drive/Untitled6-checkpoint.ipynb',\n",
              " '/content/gdrive/My Drive/Untitled7-checkpoint.ipynb',\n",
              " '/content/gdrive/My Drive/Untitled8-checkpoint.ipynb',\n",
              " '/content/gdrive/My Drive/Untitled9-checkpoint.ipynb',\n",
              " '/content/gdrive/My Drive/Untitled10-checkpoint.ipynb',\n",
              " '/content/gdrive/My Drive/Untitled11-checkpoint.ipynb',\n",
              " '/content/gdrive/My Drive/Untitled12-checkpoint.ipynb',\n",
              " '/content/gdrive/My Drive/Untitled14-checkpoint.ipynb',\n",
              " '/content/gdrive/My Drive/Untitled13-checkpoint.ipynb',\n",
              " '/content/gdrive/My Drive/Untitled15-checkpoint.ipynb',\n",
              " '/content/gdrive/My Drive/Untitled16-checkpoint.ipynb',\n",
              " '/content/gdrive/My Drive/Untitled17-checkpoint.ipynb',\n",
              " '/content/gdrive/My Drive/Untitled18-checkpoint.ipynb',\n",
              " '/content/gdrive/My Drive/Untitled19-checkpoint.ipynb',\n",
              " '/content/gdrive/My Drive/Untitled20-checkpoint.ipynb',\n",
              " '/content/gdrive/My Drive/Untitled21-checkpoint.ipynb',\n",
              " '/content/gdrive/My Drive/Untitled22-checkpoint.ipynb',\n",
              " '/content/gdrive/My Drive/Untitled23-checkpoint.ipynb',\n",
              " '/content/gdrive/My Drive/Untitled24-checkpoint.ipynb',\n",
              " '/content/gdrive/My Drive/Untitled25-checkpoint.ipynb',\n",
              " '/content/gdrive/My Drive/Untitled-checkpoint.ipynb',\n",
              " '/content/gdrive/My Drive/wholesale_data-checkpoint.ipynb',\n",
              " '/content/gdrive/My Drive/winequalitydoselect-checkpoint.ipynb',\n",
              " '/content/gdrive/My Drive/wordcloud Class DV-checkpoint.ipynb',\n",
              " '/content/gdrive/My Drive/campus',\n",
              " '/content/gdrive/My Drive/shrinjitdascv.doc',\n",
              " '/content/gdrive/My Drive/shrinjitdascv - Shrinjit Dash.doc',\n",
              " '/content/gdrive/My Drive/shrinjit_dash_resume.doc',\n",
              " '/content/gdrive/My Drive/18125760058_shrinjitdash.doc',\n",
              " '/content/gdrive/My Drive/18125760069_Vasudev_Patki.pdf',\n",
              " '/content/gdrive/My Drive/chat_bot']"
            ]
          },
          "metadata": {
            "tags": []
          },
          "execution_count": 13
        }
      ]
    },
    {
      "metadata": {
        "colab_type": "code",
        "id": "9J9EBxx_CoLx",
        "colab": {}
      },
      "cell_type": "code",
      "source": [
        "##  rasa has 2 parts "
      ],
      "execution_count": 0,
      "outputs": []
    },
    {
      "metadata": {
        "colab_type": "code",
        "id": "AVZZumGZD9o7",
        "colab": {}
      },
      "cell_type": "code",
      "source": [
        "# it takes the intend of the user "
      ],
      "execution_count": 0,
      "outputs": []
    },
    {
      "metadata": {
        "colab_type": "code",
        "id": "g5Smv6PCEAfs",
        "colab": {}
      },
      "cell_type": "code",
      "source": [
        "# understand wat the user wants to say\n",
        "#"
      ],
      "execution_count": 0,
      "outputs": []
    },
    {
      "metadata": {
        "colab_type": "code",
        "id": "kYK7JNhREiMd",
        "colab": {}
      },
      "cell_type": "code",
      "source": [
        "from rasa_nlu.training_data import load_data"
      ],
      "execution_count": 0,
      "outputs": []
    },
    {
      "metadata": {
        "colab_type": "code",
        "id": "6tYYKRvsEmLP",
        "colab": {}
      },
      "cell_type": "code",
      "source": [
        "from rasa_nlu import config\n",
        "from rasa_nlu.model import Trainer\n",
        "from rasa_nlu.model import Interpreter"
      ],
      "execution_count": 0,
      "outputs": []
    },
    {
      "metadata": {
        "colab_type": "code",
        "id": "y27v5gWVEv4H",
        "colab": {},
        "outputId": "c7cb0dcc-3969-4852-e11e-f2f78bde8ef6"
      },
      "cell_type": "code",
      "source": [
        "text='i love india.today is 04/03/2019'\n",
        "import en_core_web_sm\n",
        "nlp =en_core_web_sm.load()\n"
      ],
      "execution_count": 0,
      "outputs": [
        {
          "output_type": "error",
          "ename": "ModuleNotFoundError",
          "evalue": "No module named 'en_core_web_sm'",
          "traceback": [
            "\u001b[0;31m---------------------------------------------------------------------------\u001b[0m",
            "\u001b[0;31mModuleNotFoundError\u001b[0m                       Traceback (most recent call last)",
            "\u001b[0;32m<ipython-input-8-98e96b62e35c>\u001b[0m in \u001b[0;36m<module>\u001b[0;34m\u001b[0m\n\u001b[1;32m      1\u001b[0m \u001b[0mtext\u001b[0m\u001b[0;34m=\u001b[0m\u001b[0;34m'i love india.today is 04/03/2019'\u001b[0m\u001b[0;34m\u001b[0m\u001b[0;34m\u001b[0m\u001b[0m\n\u001b[0;32m----> 2\u001b[0;31m \u001b[0;32mimport\u001b[0m \u001b[0men_core_web_sm\u001b[0m\u001b[0;34m\u001b[0m\u001b[0;34m\u001b[0m\u001b[0m\n\u001b[0m\u001b[1;32m      3\u001b[0m \u001b[0mnlp\u001b[0m \u001b[0;34m=\u001b[0m\u001b[0men_core_web_sm\u001b[0m\u001b[0;34m.\u001b[0m\u001b[0mload\u001b[0m\u001b[0;34m(\u001b[0m\u001b[0;34m)\u001b[0m\u001b[0;34m\u001b[0m\u001b[0;34m\u001b[0m\u001b[0m\n",
            "\u001b[0;31mModuleNotFoundError\u001b[0m: No module named 'en_core_web_sm'"
          ]
        }
      ]
    },
    {
      "metadata": {
        "colab_type": "code",
        "id": "q6Oz5e1mPcZQ",
        "outputId": "a664172a-d89d-4cb3-bb65-c76df0777755",
        "colab": {
          "base_uri": "https://localhost:8080/",
          "height": 51
        }
      },
      "cell_type": "code",
      "source": [
        "text='i love india.today is MONDAY'\n",
        "import en_core_web_sm\n",
        "nlp =en_core_web_sm.load()\n",
        "\n",
        "doc=nlp(text)\n",
        "for i in doc.ents: ## names entity recognition \n",
        "  print(i.text,i.label_)"
      ],
      "execution_count": 0,
      "outputs": [
        {
          "output_type": "stream",
          "text": [
            "india.today DATE\n",
            "MONDAY DATE\n"
          ],
          "name": "stdout"
        }
      ]
    },
    {
      "metadata": {
        "colab_type": "code",
        "id": "Sc32BRT9PlEs",
        "colab": {}
      },
      "cell_type": "code",
      "source": [
        "## we need to build an intent recogniser \n"
      ],
      "execution_count": 0,
      "outputs": []
    },
    {
      "metadata": {
        "colab_type": "code",
        "id": "_z8oiLa_S1P_",
        "colab": {}
      },
      "cell_type": "code",
      "source": [
        "path='/content/gdrive/My Drive/chat_bot/nlu_data.md'"
      ],
      "execution_count": 0,
      "outputs": []
    },
    {
      "metadata": {
        "colab_type": "code",
        "id": "B_Ltl3rHXxhX",
        "colab": {}
      },
      "cell_type": "code",
      "source": [
        "trainingdata=load_data(path)"
      ],
      "execution_count": 0,
      "outputs": []
    },
    {
      "metadata": {
        "colab_type": "code",
        "id": "5KqMIRJNZ9LX",
        "outputId": "1f731c8b-346b-4cfe-d690-74828229dd59",
        "colab": {
          "base_uri": "https://localhost:8080/",
          "height": 34
        }
      },
      "cell_type": "code",
      "source": [
        "trainingdata"
      ],
      "execution_count": 0,
      "outputs": [
        {
          "output_type": "execute_result",
          "data": {
            "text/plain": [
              "<rasa_nlu.training_data.training_data.TrainingData at 0x7f9a2d1b6400>"
            ]
          },
          "metadata": {
            "tags": []
          },
          "execution_count": 31
        }
      ]
    },
    {
      "metadata": {
        "colab_type": "code",
        "id": "LLwh4wdWacHh",
        "outputId": "f7ed7c90-148e-4eed-96ba-17054f760fbf",
        "colab": {
          "base_uri": "https://localhost:8080/",
          "height": 34
        }
      },
      "cell_type": "code",
      "source": [
        "settings_md = \"\"\" \n",
        "language: \"en\" \n",
        "pipeline:\n",
        "- name: \"nlp_spacy\"\n",
        "- name: \"tokenizer_spacy\"\n",
        "- name: \"intent_entity_featurizer_regex\"\n",
        "- name: \"intent_featurizer_spacy\"\n",
        "- name: \"ner_crf\"\n",
        "- name: \"ner_spacy\"\n",
        "- name: \"ner_synonyms\"\n",
        "- name: \"intent_classifier_sklearn\" \n",
        "\"\"\"\n",
        "%store settings_md > '/content/gdrive/My Drive/chat_bot/nlu-setting.yml'"
      ],
      "execution_count": 0,
      "outputs": [
        {
          "output_type": "stream",
          "text": [
            "Writing 'settings_md' (str) to file '/content/gdrive/My Drive/chat_bot/nlu-setting.yml'.\n"
          ],
          "name": "stdout"
        }
      ]
    },
    {
      "metadata": {
        "colab_type": "code",
        "id": "twKFV6c6czW9",
        "colab": {}
      },
      "cell_type": "code",
      "source": [
        "path='/content/gdrive/My Drive/chat_bot/nlu-setting.yml'\n",
        "trainer=Trainer(config.load(path))"
      ],
      "execution_count": 0,
      "outputs": []
    },
    {
      "metadata": {
        "colab_type": "code",
        "id": "e6B0t92KeNPO",
        "outputId": "83faac6e-244f-4b62-ed55-2b635a211bfc",
        "colab": {
          "base_uri": "https://localhost:8080/",
          "height": 34
        }
      },
      "cell_type": "code",
      "source": [
        "import glob\n",
        "glob.glob('/content/gdrive/My Drive/chat_bot/nlu_data.md')"
      ],
      "execution_count": 0,
      "outputs": [
        {
          "output_type": "execute_result",
          "data": {
            "text/plain": [
              "['/content/gdrive/My Drive/chat_bot/nlu_data.md']"
            ]
          },
          "metadata": {
            "tags": []
          },
          "execution_count": 37
        }
      ]
    },
    {
      "metadata": {
        "colab_type": "code",
        "id": "5PTlXS31eayo",
        "colab": {}
      },
      "cell_type": "code",
      "source": [
        "#!pip install sklearn_crfsuite"
      ],
      "execution_count": 0,
      "outputs": []
    },
    {
      "metadata": {
        "colab_type": "code",
        "id": "2qSav0TWfauV",
        "outputId": "69592e8a-fef4-4ee0-8e07-ce9a29f63d99",
        "colab": {
          "base_uri": "https://localhost:8080/",
          "height": 85
        }
      },
      "cell_type": "code",
      "source": [
        "trainer.train(trainingdata)"
      ],
      "execution_count": 0,
      "outputs": [
        {
          "output_type": "stream",
          "text": [
            "Fitting 2 folds for each of 6 candidates, totalling 12 fits\n"
          ],
          "name": "stdout"
        },
        {
          "output_type": "stream",
          "text": [
            "[Parallel(n_jobs=1)]: Using backend SequentialBackend with 1 concurrent workers.\n",
            "[Parallel(n_jobs=1)]: Done  12 out of  12 | elapsed:    0.0s finished\n"
          ],
          "name": "stderr"
        },
        {
          "output_type": "execute_result",
          "data": {
            "text/plain": [
              "<rasa_nlu.model.Interpreter at 0x7f9a1d406470>"
            ]
          },
          "metadata": {
            "tags": []
          },
          "execution_count": 51
        }
      ]
    },
    {
      "metadata": {
        "colab_type": "code",
        "id": "-NM1dmAKel86",
        "colab": {}
      },
      "cell_type": "code",
      "source": [
        "path_model='/content/gdrive/My Drive/chat_bot/models'"
      ],
      "execution_count": 0,
      "outputs": []
    },
    {
      "metadata": {
        "colab_type": "code",
        "id": "32-a0h9Ggnn2",
        "colab": {}
      },
      "cell_type": "code",
      "source": [
        "model_directory=trainer.persist(path_model,fixed_model_name='current')"
      ],
      "execution_count": 0,
      "outputs": []
    },
    {
      "metadata": {
        "colab_type": "code",
        "id": "8bGyAkq7g8bm",
        "outputId": "9d20d1ba-d9cb-45fb-cee2-4a9b2eb18dec",
        "colab": {
          "base_uri": "https://localhost:8080/",
          "height": 34
        }
      },
      "cell_type": "code",
      "source": [
        "path_model='/content/gdrive/My Drive/chat_bot/models/default/current'\n",
        "interpreter=Interpreter.load(path_model)\n",
        "interpreter"
      ],
      "execution_count": 0,
      "outputs": [
        {
          "output_type": "execute_result",
          "data": {
            "text/plain": [
              "<rasa_nlu.model.Interpreter at 0x7f9a1b1bfe80>"
            ]
          },
          "metadata": {
            "tags": []
          },
          "execution_count": 55
        }
      ]
    },
    {
      "metadata": {
        "colab_type": "code",
        "id": "J048lZwciOXp",
        "outputId": "dfae7772-5769-476a-fd59-a57497fcd706",
        "colab": {
          "base_uri": "https://localhost:8080/",
          "height": 102
        }
      },
      "cell_type": "code",
      "source": [
        "interpreter.parse('get lost')"
      ],
      "execution_count": 0,
      "outputs": [
        {
          "output_type": "execute_result",
          "data": {
            "text/plain": [
              "{'entities': [],\n",
              " 'intent': {'confidence': 0.8697905687079623, 'name': 'bye'},\n",
              " 'intent_ranking': [{'confidence': 0.8697905687079623, 'name': 'bye'},\n",
              "  {'confidence': 0.13020943129203763, 'name': 'greet'}],\n",
              " 'text': 'get lost'}"
            ]
          },
          "metadata": {
            "tags": []
          },
          "execution_count": 57
        }
      ]
    },
    {
      "metadata": {
        "colab_type": "code",
        "id": "S4ys7YMliW1o",
        "colab": {}
      },
      "cell_type": "code",
      "source": [
        ""
      ],
      "execution_count": 0,
      "outputs": []
    }
  ]
}